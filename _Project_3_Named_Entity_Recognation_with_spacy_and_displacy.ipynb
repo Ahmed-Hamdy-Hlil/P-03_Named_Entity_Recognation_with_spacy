{
  "nbformat": 4,
  "nbformat_minor": 0,
  "metadata": {
    "colab": {
      "provenance": []
    },
    "kernelspec": {
      "name": "python3",
      "display_name": "Python 3"
    },
    "language_info": {
      "name": "python"
    }
  },
  "cells": [
    {
      "cell_type": "code",
      "execution_count": null,
      "metadata": {
        "id": "5vGk8Nl1ekwH"
      },
      "outputs": [],
      "source": [
        "! pip install spacy"
      ]
    },
    {
      "cell_type": "code",
      "source": [
        "! python -m spacy download en_core_web_sm"
      ],
      "metadata": {
        "id": "2BwDp-VkAL4R"
      },
      "execution_count": null,
      "outputs": []
    },
    {
      "cell_type": "code",
      "source": [
        "! pip install streamlit\n",
        "! pip install pyngrok"
      ],
      "metadata": {
        "id": "JHqTPWKhAWoq"
      },
      "execution_count": null,
      "outputs": []
    },
    {
      "cell_type": "code",
      "source": [
        "%%writefile text_extraction.py\n",
        "import streamlit as st\n",
        "import spacy\n",
        "import en_core_web_sm\n",
        "from spacy import displacy # Extarct and highlight\n",
        "\n",
        "st.title('Text Extraction Application !')\n",
        "st.write('Please Enter The Text')\n",
        "text = st.text_area('Enter Text here ...' , height = 150)\n",
        "\n",
        "# load model !\n",
        "nlp_model = spacy.load('en_core_web_sm')\n",
        "\n",
        "# implemment model by function\n",
        "def extract_text(text):\n",
        "  # implement\n",
        "  doc = nlp_model(text)\n",
        "  # define entities\n",
        "  entities = [(ent.text , ent.label) for ent in doc.ents]\n",
        "  return entities\n",
        "\n",
        "# display entities\n",
        "def show_entities(doc):\n",
        "  json_file = displacy.render(doc , style = 'ent' , jupyter = False)\n",
        "  return json_file\n",
        "\n",
        "if st.button('Extract Text'):\n",
        "  if text:\n",
        "    doc = nlp_model(text)\n",
        "    entities = extract_text(text)\n",
        "    st.write(entities)\n",
        "\n",
        "    st.subheader('Extracted Entities')\n",
        "    st.markdown(show_entities(doc) , unsafe_allow_html = True)\n",
        "  else:\n",
        "    st.error('Please Enter The text !')"
      ],
      "metadata": {
        "colab": {
          "base_uri": "https://localhost:8080/"
        },
        "id": "M2kVuIxYBY_r",
        "outputId": "8bda04a3-990c-475b-e39d-c40eb011c0b5"
      },
      "execution_count": null,
      "outputs": [
        {
          "output_type": "stream",
          "name": "stdout",
          "text": [
            "Overwriting text_extraction.py\n"
          ]
        }
      ]
    },
    {
      "cell_type": "code",
      "source": [
        "from pyngrok import ngrok\n",
        "# https://dashboard.ngrok.com/get-started/your-authtoken\n",
        "! ngrok authtoken 'Your Auth key'\n",
        "! streamlit run text_extraction.py &>/dev/null&\n",
        "!pgrep -f streamlit\n",
        "puplic_url = ngrok.connect('8501')\n",
        "print(puplic_url)"
      ],
      "metadata": {
        "colab": {
          "base_uri": "https://localhost:8080/"
        },
        "id": "RldPV0ZVH0Bi",
        "outputId": "44d34cb4-fee2-4934-eb3d-bcd041f9ff90"
      },
      "execution_count": null,
      "outputs": [
        {
          "output_type": "stream",
          "name": "stdout",
          "text": [
            "Authtoken saved to configuration file: /root/.config/ngrok/ngrok.yml\n",
            "8696\n",
            "NgrokTunnel: \"https://17c0-34-74-96-236.ngrok-free.app\" -> \"http://localhost:8501\"\n"
          ]
        }
      ]
    },
    {
      "cell_type": "code",
      "source": [
        "import subprocess\n",
        "\n",
        "# Kill any existing ngrok processes\n",
        "subprocess.run([\"pkill\", \"ngrok\"])"
      ],
      "metadata": {
        "colab": {
          "base_uri": "https://localhost:8080/"
        },
        "id": "C0KYkyntHcYB",
        "outputId": "b494b378-43a2-48d1-d9d3-c49cc7d47c38"
      },
      "execution_count": null,
      "outputs": [
        {
          "output_type": "execute_result",
          "data": {
            "text/plain": [
              "CompletedProcess(args=['pkill', 'ngrok'], returncode=0)"
            ]
          },
          "metadata": {},
          "execution_count": 14
        }
      ]
    },
    {
      "cell_type": "code",
      "source": [],
      "metadata": {
        "id": "GLKEksfUOeuY"
      },
      "execution_count": null,
      "outputs": []
    }
  ]
}